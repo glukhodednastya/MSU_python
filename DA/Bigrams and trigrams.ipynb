{
 "cells": [
  {
   "cell_type": "code",
   "execution_count": 1,
   "id": "34f72fb8",
   "metadata": {},
   "outputs": [],
   "source": [
    "from nltk import everygrams\n",
    "from collections import Counter\n",
    "import re"
   ]
  },
  {
   "cell_type": "code",
   "execution_count": 8,
   "id": "8e1b9aef",
   "metadata": {},
   "outputs": [
    {
     "name": "stdout",
     "output_type": "stream",
     "text": [
      "Enter the string: Коэффициент функции диффузии\n"
     ]
    }
   ],
   "source": [
    "text = input (\"Enter the string: \")\n",
    "text = text.lower()\n",
    "text = re.sub('[!?@#$,.-]', '', text)\n",
    "text = re.sub('[0-9]', '', text)\n",
    "text = list(text)"
   ]
  },
  {
   "cell_type": "code",
   "execution_count": 9,
   "id": "40728052",
   "metadata": {},
   "outputs": [
    {
     "name": "stdout",
     "output_type": "stream",
     "text": [
      "['ко', 'коэ', 'оэ', 'оэф', 'эф', 'эфф', 'фф', 'ффи', 'фи', 'фиц', 'иц', 'ици', 'ци', 'цие', 'ие', 'иен', 'ен', 'ент', 'нт', 'нт ', 'т ', 'т ф', ' ф', ' фу', 'фу', 'фун', 'ун', 'унк', 'нк', 'нкц', 'кц', 'кци', 'ци', 'ции', 'ии', 'ии ', 'и ', 'и д', ' д', ' ди', 'ди', 'диф', 'иф', 'ифф', 'фф', 'ффу', 'фу', 'фуз', 'уз', 'узи', 'зи', 'зии', 'ии']\n"
     ]
    }
   ],
   "source": [
    "grams = list(everygrams(text, 2, 3))\n",
    "new_grams = []\n",
    "for i in grams:\n",
    "    gram = ''.join(i)\n",
    "    new_grams.append(gram)\n",
    "print(new_grams)"
   ]
  },
  {
   "cell_type": "code",
   "execution_count": 10,
   "id": "9595bbca",
   "metadata": {},
   "outputs": [],
   "source": [
    "counter = Counter(new_grams).most_common()"
   ]
  },
  {
   "cell_type": "code",
   "execution_count": 11,
   "id": "5b8b1ef0",
   "metadata": {},
   "outputs": [
    {
     "name": "stdout",
     "output_type": "stream",
     "text": [
      "Number of bigrams/trigrams: 10\n"
     ]
    }
   ],
   "source": [
    "count = int(input(\"Number of bigrams/trigrams: \"))"
   ]
  },
  {
   "cell_type": "code",
   "execution_count": 12,
   "id": "beeb6c8b",
   "metadata": {},
   "outputs": [
    {
     "data": {
      "text/plain": [
       "[('фф', 2),\n",
       " ('ци', 2),\n",
       " ('фу', 2),\n",
       " ('ии', 2),\n",
       " ('ко', 1),\n",
       " ('коэ', 1),\n",
       " ('оэ', 1),\n",
       " ('оэф', 1),\n",
       " ('эф', 1),\n",
       " ('эфф', 1)]"
      ]
     },
     "execution_count": 12,
     "metadata": {},
     "output_type": "execute_result"
    }
   ],
   "source": [
    "counter[:count]"
   ]
  },
  {
   "cell_type": "code",
   "execution_count": null,
   "id": "2741eee3",
   "metadata": {},
   "outputs": [],
   "source": []
  }
 ],
 "metadata": {
  "kernelspec": {
   "display_name": "Python 3",
   "language": "python",
   "name": "python3"
  },
  "language_info": {
   "codemirror_mode": {
    "name": "ipython",
    "version": 3
   },
   "file_extension": ".py",
   "mimetype": "text/x-python",
   "name": "python",
   "nbconvert_exporter": "python",
   "pygments_lexer": "ipython3",
   "version": "3.7.6"
  }
 },
 "nbformat": 4,
 "nbformat_minor": 5
}
