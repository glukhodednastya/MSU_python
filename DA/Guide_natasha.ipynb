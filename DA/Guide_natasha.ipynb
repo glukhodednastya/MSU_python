{
 "cells": [
  {
   "cell_type": "markdown",
   "id": "fb75802c",
   "metadata": {},
   "source": [
    "Гид по библиотеке **natasha** написала Глуходед Анастасия (324 группа). \n",
    "Текст для примера взят из романа Джорджа Оруэлла \"1984\".\n",
    "\n",
    "Источники:\n",
    "https://github.com/natasha/natasha"
   ]
  },
  {
   "cell_type": "markdown",
   "id": "5dd7a5de",
   "metadata": {},
   "source": [
    "Библиотека **natasha** решает базовые задачи НЛП (нейролингвистического программирования) естественного русского языка: токенизация, сегментация предложений на токены и предложения, встраивание слов, маркировка морфологии, лемматизация, нормализация фраз, синтаксический анализ, маркировка NER, извлечение фактов.\n",
    "\n",
    "Давайте установим ее и посмотрим, как она работает."
   ]
  },
  {
   "cell_type": "code",
   "execution_count": null,
   "id": "2e83782f",
   "metadata": {},
   "outputs": [],
   "source": [
    "pip install natasha"
   ]
  },
  {
   "cell_type": "markdown",
   "id": "4c782c95",
   "metadata": {},
   "source": [
    "Экспортируем библиотеку и пропишем все необходимые строки для обработки текста."
   ]
  },
  {
   "cell_type": "code",
   "execution_count": 2,
   "id": "fa6c673e",
   "metadata": {},
   "outputs": [],
   "source": [
    "from natasha import (\n",
    "    Segmenter, #сегментация текста на слова и предложения\n",
    "    MorphVocab, #лемматизация слов\n",
    "    NewsEmbedding,\n",
    "    NewsMorphTagger, #морфологический разбор\n",
    "    NewsSyntaxParser, #синтаксический разбор\n",
    "    NewsNERTagger, #извлечение стандартных именованных объектов\n",
    "    #(имен, местоположений, организаций)\n",
    "    \n",
    "    PER,\n",
    "    NamesExtractor, #извлечение имен (фамилии, имени, отсчества)\n",
    "    #Пример: «Анастасия Александровна Глуходед» - \n",
    "    #{first: Анастасия, last: Глуходед, middle: Александровна}\n",
    "    DatesExtractor, #извлечение дат (в различном формате)\n",
    "    #Пример: \"30.09.2021\" - {year=2021, month=09, day=30}\n",
    "    MoneyExtractor, #извлечение денежных единиц, валюты\n",
    "    #Пример: \"1000 RUB\" - {amount=1000,currency='RUB'}\n",
    "    AddrExtractor, #извлечение адресов\n",
    "    \n",
    "    Doc\n",
    ")\n",
    "segmenter = Segmenter()\n",
    "morph_vocab = MorphVocab()\n",
    "\n",
    "emb = NewsEmbedding()\n",
    "morph_tagger = NewsMorphTagger(emb)\n",
    "syntax_parser = NewsSyntaxParser(emb)\n",
    "ner_tagger = NewsNERTagger(emb)\n",
    "\n",
    "names_extractor = NamesExtractor(morph_vocab)\n",
    "dates_extractor = DatesExtractor(morph_vocab)\n",
    "noney_extractor = MoneyExtractor(morph_vocab)\n",
    "addr_extractor = AddrExtractor(morph_vocab)"
   ]
  },
  {
   "cell_type": "markdown",
   "id": "72cfd6c8",
   "metadata": {},
   "source": [
    "Введем текст, с которым будем работать:"
   ]
  },
  {
   "cell_type": "code",
   "execution_count": 3,
   "id": "bff731ed",
   "metadata": {},
   "outputs": [],
   "source": [
    "text = '4 апреля 1984 года. Вчера в кино. Сплошь военные фильмы. Один очень хороший где-то в Средиземном море бомбят судно с беженцами. Публику забавляют кадры где пробует уплыть громадный толстенный мужчина а его преследует вертолет. сперва мы видим как он по-дельфиньи бултыхается в воде потом видим его с вертолета через прицел потом он весь продырявлен и море вокруг него розовое и сразу тонет словно через дыры набрал воды, когда он пошел на дно зрители загоготали. Потом шлюпка полная детей и над ней вьется вертолет. там на носу сидела женщина средних лет похожая на еврейку а на руках у нее мальчик лет трех.'"
   ]
  },
  {
   "cell_type": "code",
   "execution_count": 18,
   "id": "03dfd68c",
   "metadata": {},
   "outputs": [
    {
     "data": {
      "text/plain": [
       "'4 апреля 1984 года. Вчера в кино. Сплошь военные фильмы. Один очень хороший где-то в Средиземном море бомбят судно с беженцами. Публику забавляют кадры где пробует уплыть громадный толстенный мужчина а его преследует вертолет. сперва мы видим как он по-дельфиньи бултыхается в воде потом видим его с вертолета через прицел потом он весь продырявлен и море вокруг него розовое и сразу тонет словно через дыры набрал воды, когда он пошел на дно зрители загоготали. Потом шлюпка полная детей и над ней вьется вертолет. там на носу сидела женщина средних лет похожая на еврейку а на руках у нее мальчик лет трех.'"
      ]
     },
     "execution_count": 18,
     "metadata": {},
     "output_type": "execute_result"
    }
   ],
   "source": [
    "text"
   ]
  },
  {
   "cell_type": "markdown",
   "id": "a2d764a9",
   "metadata": {},
   "source": [
    "Передадим текст нашей библиотеке. Назовем этот объект переменной doc."
   ]
  },
  {
   "cell_type": "code",
   "execution_count": 4,
   "id": "a3516255",
   "metadata": {},
   "outputs": [],
   "source": [
    "doc = Doc(text)\n",
    "doc.segment(segmenter)\n",
    "doc.tag_morph(morph_tagger)\n",
    "doc.parse_syntax(syntax_parser)\n",
    "doc.tag_ner(ner_tagger)"
   ]
  },
  {
   "cell_type": "markdown",
   "id": "0e12e28e",
   "metadata": {},
   "source": [
    "Проведем сегментацию, разбивая текст на токены. Распечатаем первые три."
   ]
  },
  {
   "cell_type": "code",
   "execution_count": 5,
   "id": "23f3f44a",
   "metadata": {},
   "outputs": [
    {
     "data": {
      "text/plain": [
       "[DocToken(stop=1, text='4'),\n",
       " DocToken(start=2, stop=8, text='апреля'),\n",
       " DocToken(start=9, stop=13, text='1984')]"
      ]
     },
     "metadata": {},
     "output_type": "display_data"
    }
   ],
   "source": [
    "doc.segment(segmenter)\n",
    "display(doc.tokens[:3])"
   ]
  },
  {
   "cell_type": "markdown",
   "id": "e4775957",
   "metadata": {},
   "source": [
    "Разобьем текст на предложения. Распечатаем первые три."
   ]
  },
  {
   "cell_type": "code",
   "execution_count": 6,
   "id": "3fe41fbe",
   "metadata": {},
   "outputs": [
    {
     "data": {
      "text/plain": [
       "[DocSent(stop=19, text='4 апреля 1984 года.', tokens=[...]),\n",
       " DocSent(start=20, stop=33, text='Вчера в кино.', tokens=[...]),\n",
       " DocSent(start=34, stop=56, text='Сплошь военные фильмы.', tokens=[...])]"
      ]
     },
     "metadata": {},
     "output_type": "display_data"
    }
   ],
   "source": [
    "display(doc.sents[:3])"
   ]
  },
  {
   "cell_type": "markdown",
   "id": "b57f0ad5",
   "metadata": {},
   "source": [
    "Библиотека **natasha** позволяет делать морфологически разбор слов. Посмотрим на разбор первых пяти слов.\n",
    "У каждого слова определяется часть речи."
   ]
  },
  {
   "cell_type": "code",
   "execution_count": 7,
   "id": "e95009ac",
   "metadata": {},
   "outputs": [
    {
     "data": {
      "text/plain": [
       "[DocToken(stop=1, text='4', pos='ADJ'),\n",
       " DocToken(start=2, stop=8, text='апреля', pos='NOUN', feats=<Inan,Gen,Masc,Sing>),\n",
       " DocToken(start=9, stop=13, text='1984', pos='ADJ'),\n",
       " DocToken(start=14, stop=18, text='года', pos='NOUN', feats=<Inan,Gen,Masc,Sing>),\n",
       " DocToken(start=18, stop=19, text='.', pos='PUNCT')]"
      ]
     },
     "metadata": {},
     "output_type": "display_data"
    }
   ],
   "source": [
    "doc.tag_morph(morph_tagger)\n",
    "display(doc.tokens[:5])"
   ]
  },
  {
   "cell_type": "markdown",
   "id": "3df71554",
   "metadata": {},
   "source": [
    "Библиотека **natasha** умеет лемматизировать слова. Библиотека решает задачу лемматизации, использует Pymorphy2 и результаты морфологического разбора.\n",
    "Выведем те, которые отличаются от начальной формы."
   ]
  },
  {
   "cell_type": "code",
   "execution_count": 8,
   "id": "10e90d91",
   "metadata": {},
   "outputs": [
    {
     "data": {
      "text/plain": [
       "{'апреля': 'апрель',\n",
       " 'года': 'год',\n",
       " 'военные': 'военный',\n",
       " 'фильмы': 'фильм',\n",
       " 'Средиземном': 'средиземный',\n",
       " 'бомбят': 'бомбить',\n",
       " 'беженцами': 'беженец',\n",
       " 'Публику': 'публика',\n",
       " 'забавляют': 'забавлять',\n",
       " 'кадры': 'кадр',\n",
       " 'пробует': 'пробовать',\n",
       " 'его': 'он',\n",
       " 'преследует': 'преследовать',\n",
       " 'видим': 'видеть',\n",
       " 'бултыхается': 'бултыхаться',\n",
       " 'воде': 'вода',\n",
       " 'вертолета': 'вертолет',\n",
       " 'продырявлен': 'продырявить',\n",
       " 'него': 'он',\n",
       " 'розовое': 'розовый',\n",
       " 'тонет': 'тонуть',\n",
       " 'дыры': 'дыра',\n",
       " 'набрал': 'набрать',\n",
       " 'воды': 'вода',\n",
       " 'пошел': 'пойти',\n",
       " 'зрители': 'зритель',\n",
       " 'загоготали': 'загоготать',\n",
       " 'полная': 'полный',\n",
       " 'детей': 'ребенок',\n",
       " 'ней': 'она',\n",
       " 'вьется': 'виться',\n",
       " 'носу': 'нос',\n",
       " 'сидела': 'сидеть',\n",
       " 'средних': 'средний',\n",
       " 'лет': 'год',\n",
       " 'похожая': 'похожий',\n",
       " 'еврейку': 'еврейка',\n",
       " 'руках': 'рука',\n",
       " 'нее': 'она',\n",
       " 'трех': 'три'}"
      ]
     },
     "execution_count": 8,
     "metadata": {},
     "output_type": "execute_result"
    }
   ],
   "source": [
    "for token in doc.tokens:\n",
    "    token.lemmatize(morph_vocab)\n",
    "{_.text: _.lemma for _ in doc.tokens if _.text.lower() != _.lemma}"
   ]
  },
  {
   "cell_type": "markdown",
   "id": "69b680ba",
   "metadata": {},
   "source": [
    "Библиотека умеет работать с именами собственными, приводя слова и целые словосочетания к нормальной форме.\n",
    "Для этого **natasha** использует результаты синтаксического разбора, учитывает связи между словами, нормализует именованные сущности.\n"
   ]
  },
  {
   "cell_type": "code",
   "execution_count": 9,
   "id": "55f0dc98",
   "metadata": {},
   "outputs": [
    {
     "data": {
      "text/plain": [
       "{'Средиземном море': 'Средиземное море'}"
      ]
     },
     "execution_count": 9,
     "metadata": {},
     "output_type": "execute_result"
    }
   ],
   "source": [
    "for span in doc.spans:\n",
    "    span.normalize(morph_vocab)\n",
    "    \n",
    "{_.text: _.normal for _ in doc.spans if _.text != _.normal}"
   ]
  },
  {
   "cell_type": "markdown",
   "id": "89af58a4",
   "metadata": {},
   "source": [
    "Библиотека умеет извлекать даты из текста.\n",
    "А так же имена с помощью NamesExtractor, валюты с помощью MoneyExtractor и адреса с помощью AddrExtractor."
   ]
  },
  {
   "cell_type": "code",
   "execution_count": 10,
   "id": "038d7480",
   "metadata": {},
   "outputs": [
    {
     "data": {
      "text/plain": [
       "[OrderedDict([('year', 1984), ('month', 4), ('day', 4)])]"
      ]
     },
     "execution_count": 10,
     "metadata": {},
     "output_type": "execute_result"
    }
   ],
   "source": [
    "matches = dates_extractor(text)\n",
    "facts = [i.fact.as_json for i in matches]\n",
    "facts"
   ]
  },
  {
   "cell_type": "code",
   "execution_count": null,
   "id": "d6f67a33",
   "metadata": {},
   "outputs": [],
   "source": []
  }
 ],
 "metadata": {
  "kernelspec": {
   "display_name": "Python 3",
   "language": "python",
   "name": "python3"
  },
  "language_info": {
   "codemirror_mode": {
    "name": "ipython",
    "version": 3
   },
   "file_extension": ".py",
   "mimetype": "text/x-python",
   "name": "python",
   "nbconvert_exporter": "python",
   "pygments_lexer": "ipython3",
   "version": "3.7.6"
  }
 },
 "nbformat": 4,
 "nbformat_minor": 5
}
