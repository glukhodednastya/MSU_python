{
 "cells": [
  {
   "cell_type": "code",
   "execution_count": 1,
   "id": "828f960a",
   "metadata": {},
   "outputs": [],
   "source": [
    "import telebot\n",
    "import numpy as np\n",
    "import pandas as pd\n",
    "from sklearn.neighbors import BallTree\n",
    "from sklearn.base import BaseEstimator\n",
    "from sklearn.feature_extraction.text import TfidfVectorizer\n",
    "from sklearn.decomposition import TruncatedSVD\n",
    "from sklearn.pipeline import make_pipeline"
   ]
  },
  {
   "cell_type": "code",
   "execution_count": 2,
   "id": "f850fd6d",
   "metadata": {},
   "outputs": [],
   "source": [
    "# 5009761094:AAFZb4Z3Gr4NmQoZjZM22JvDfz6FNeEdqf8"
   ]
  },
  {
   "cell_type": "code",
   "execution_count": 3,
   "id": "701f51f3",
   "metadata": {},
   "outputs": [],
   "source": [
    "# создаем бота\n",
    "\n",
    "token = '5009761094:AAFZb4Z3Gr4NmQoZjZM22JvDfz6FNeEdqf8'\n",
    "bot = telebot.TeleBot(token)"
   ]
  },
  {
   "cell_type": "code",
   "execution_count": 4,
   "id": "5c1432c7",
   "metadata": {},
   "outputs": [],
   "source": [
    "# функция, которая будет выполняться при отправке команды /start\n",
    "\n",
    "@bot.message_handler(commands=['start'])\n",
    "def start(message):\n",
    "    bot.reply_to(message, \"Я на связи\")"
   ]
  },
  {
   "cell_type": "code",
   "execution_count": 5,
   "id": "16863eec",
   "metadata": {},
   "outputs": [],
   "source": [
    "# функция, котоорая выпполняется при отправке текстового сообщения\n",
    "\n",
    "@bot.message_handler(func = lambda message: True)\n",
    "def echo_all(message):\n",
    "    bot.reply_to(message, pipe.predict([message.text.lower()])[0])"
   ]
  },
  {
   "cell_type": "code",
   "execution_count": 6,
   "id": "d9f3fb32",
   "metadata": {},
   "outputs": [],
   "source": [
    "# загружаем готовую базу диалогов (с правками)\n",
    "\n",
    "good = pd.read_csv('good.tsv', sep='\\t')"
   ]
  },
  {
   "cell_type": "code",
   "execution_count": 7,
   "id": "51b8ab31",
   "metadata": {
    "scrolled": true
   },
   "outputs": [],
   "source": [
    "# преобразуем в числовые векторы и запоминаем частоту каждого слова\n",
    "vectorizer = TfidfVectorizer()\n",
    "vectorizer.fit(good.context_0)\n",
    "matrix_big =vectorizer.transform(good.context_0) "
   ]
  },
  {
   "cell_type": "code",
   "execution_count": 8,
   "id": "4e22fcb4",
   "metadata": {},
   "outputs": [],
   "source": [
    "# сокращаем размерность \n",
    "\n",
    "svd = TruncatedSVD(n_components = 300)\n",
    "svd.fit(matrix_big)\n",
    "matrix_small = svd.transform(matrix_big)"
   ]
  },
  {
   "cell_type": "code",
   "execution_count": 9,
   "id": "12b69db5",
   "metadata": {},
   "outputs": [],
   "source": [
    "# пишем функцию для создания вероятностного распределения\n",
    "\n",
    "def softmax(x):\n",
    "    proba = np.exp(-x)\n",
    "    return proba/sum(proba)"
   ]
  },
  {
   "cell_type": "code",
   "execution_count": 10,
   "id": "b0b63c11",
   "metadata": {},
   "outputs": [],
   "source": [
    "# создаем класс для случайного выбора одного из соседей\n",
    "\n",
    "class NeighborSampler(BaseEstimator):\n",
    "    def __init__(self, k=5, temperature=1.0):\n",
    "        self.k = k\n",
    "        self.temperature = temperature\n",
    "    def fit(self, X, y):\n",
    "        self.tree_ = BallTree(X)\n",
    "        self.y_ = np.array(y)\n",
    "    def predict(self, X, random_state=None):\n",
    "        distances, indices = self.tree_.query(X, return_distance = True, k = self.k)\n",
    "        result = []\n",
    "        for distance, index in zip(distances, indices):\n",
    "            result.append(np.random.choice(index, p = softmax(distance*self.temperature)))\n",
    "        return self.y_[result]"
   ]
  },
  {
   "cell_type": "code",
   "execution_count": 11,
   "id": "9b81c7f8",
   "metadata": {},
   "outputs": [],
   "source": [
    "# соединяем векторизацию, сокращение размерности и поиск соседей\n",
    "\n",
    "ns = NeighborSampler()\n",
    "ns.fit(matrix_small, good.reply)\n",
    "pipe = make_pipeline(vectorizer, svd, ns)"
   ]
  },
  {
   "cell_type": "code",
   "execution_count": null,
   "id": "a949ae88",
   "metadata": {},
   "outputs": [],
   "source": [
    "# запускаем бота\n",
    "\n",
    "bot.polling()  "
   ]
  },
  {
   "cell_type": "code",
   "execution_count": null,
   "id": "e16d7db4",
   "metadata": {},
   "outputs": [],
   "source": []
  }
 ],
 "metadata": {
  "kernelspec": {
   "display_name": "Python 3",
   "language": "python",
   "name": "python3"
  },
  "language_info": {
   "codemirror_mode": {
    "name": "ipython",
    "version": 3
   },
   "file_extension": ".py",
   "mimetype": "text/x-python",
   "name": "python",
   "nbconvert_exporter": "python",
   "pygments_lexer": "ipython3",
   "version": "3.7.6"
  }
 },
 "nbformat": 4,
 "nbformat_minor": 5
}
